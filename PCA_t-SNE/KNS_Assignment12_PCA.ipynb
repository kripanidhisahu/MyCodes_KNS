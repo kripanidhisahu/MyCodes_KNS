{
 "cells": [
  {
   "cell_type": "markdown",
   "metadata": {},
   "source": [
    "Perform Principal component analysis."
   ]
  },
  {
   "cell_type": "code",
   "execution_count": 1,
   "metadata": {},
   "outputs": [],
   "source": [
    "#Import relevant libraries\n",
    "import pandas as pd \n",
    "import numpy as np\n",
    "from sklearn.decomposition import PCA\n",
    "import matplotlib.pyplot as plt\n",
    "from sklearn.preprocessing import scale \n",
    "# import warnings\n",
    "# warnings.filterwarnings(\"ignore\")"
   ]
  },
  {
   "cell_type": "code",
   "execution_count": 2,
   "metadata": {},
   "outputs": [
    {
     "data": {
      "text/html": [
       "<div>\n",
       "<style scoped>\n",
       "    .dataframe tbody tr th:only-of-type {\n",
       "        vertical-align: middle;\n",
       "    }\n",
       "\n",
       "    .dataframe tbody tr th {\n",
       "        vertical-align: top;\n",
       "    }\n",
       "\n",
       "    .dataframe thead th {\n",
       "        text-align: right;\n",
       "    }\n",
       "</style>\n",
       "<table border=\"1\" class=\"dataframe\">\n",
       "  <thead>\n",
       "    <tr style=\"text-align: right;\">\n",
       "      <th></th>\n",
       "      <th>Type</th>\n",
       "      <th>Alcohol</th>\n",
       "      <th>Malic</th>\n",
       "      <th>Ash</th>\n",
       "      <th>Alcalinity</th>\n",
       "      <th>Magnesium</th>\n",
       "      <th>Phenols</th>\n",
       "      <th>Flavanoids</th>\n",
       "      <th>Nonflavanoids</th>\n",
       "      <th>Proanthocyanins</th>\n",
       "      <th>Color</th>\n",
       "      <th>Hue</th>\n",
       "      <th>Dilution</th>\n",
       "      <th>Proline</th>\n",
       "    </tr>\n",
       "  </thead>\n",
       "  <tbody>\n",
       "    <tr>\n",
       "      <th>0</th>\n",
       "      <td>1</td>\n",
       "      <td>14.23</td>\n",
       "      <td>1.71</td>\n",
       "      <td>2.43</td>\n",
       "      <td>15.6</td>\n",
       "      <td>127</td>\n",
       "      <td>2.80</td>\n",
       "      <td>3.06</td>\n",
       "      <td>0.28</td>\n",
       "      <td>2.29</td>\n",
       "      <td>5.64</td>\n",
       "      <td>1.04</td>\n",
       "      <td>3.92</td>\n",
       "      <td>1065</td>\n",
       "    </tr>\n",
       "    <tr>\n",
       "      <th>1</th>\n",
       "      <td>1</td>\n",
       "      <td>13.20</td>\n",
       "      <td>1.78</td>\n",
       "      <td>2.14</td>\n",
       "      <td>11.2</td>\n",
       "      <td>100</td>\n",
       "      <td>2.65</td>\n",
       "      <td>2.76</td>\n",
       "      <td>0.26</td>\n",
       "      <td>1.28</td>\n",
       "      <td>4.38</td>\n",
       "      <td>1.05</td>\n",
       "      <td>3.40</td>\n",
       "      <td>1050</td>\n",
       "    </tr>\n",
       "    <tr>\n",
       "      <th>2</th>\n",
       "      <td>1</td>\n",
       "      <td>13.16</td>\n",
       "      <td>2.36</td>\n",
       "      <td>2.67</td>\n",
       "      <td>18.6</td>\n",
       "      <td>101</td>\n",
       "      <td>2.80</td>\n",
       "      <td>3.24</td>\n",
       "      <td>0.30</td>\n",
       "      <td>2.81</td>\n",
       "      <td>5.68</td>\n",
       "      <td>1.03</td>\n",
       "      <td>3.17</td>\n",
       "      <td>1185</td>\n",
       "    </tr>\n",
       "    <tr>\n",
       "      <th>3</th>\n",
       "      <td>1</td>\n",
       "      <td>14.37</td>\n",
       "      <td>1.95</td>\n",
       "      <td>2.50</td>\n",
       "      <td>16.8</td>\n",
       "      <td>113</td>\n",
       "      <td>3.85</td>\n",
       "      <td>3.49</td>\n",
       "      <td>0.24</td>\n",
       "      <td>2.18</td>\n",
       "      <td>7.80</td>\n",
       "      <td>0.86</td>\n",
       "      <td>3.45</td>\n",
       "      <td>1480</td>\n",
       "    </tr>\n",
       "    <tr>\n",
       "      <th>4</th>\n",
       "      <td>1</td>\n",
       "      <td>13.24</td>\n",
       "      <td>2.59</td>\n",
       "      <td>2.87</td>\n",
       "      <td>21.0</td>\n",
       "      <td>118</td>\n",
       "      <td>2.80</td>\n",
       "      <td>2.69</td>\n",
       "      <td>0.39</td>\n",
       "      <td>1.82</td>\n",
       "      <td>4.32</td>\n",
       "      <td>1.04</td>\n",
       "      <td>2.93</td>\n",
       "      <td>735</td>\n",
       "    </tr>\n",
       "  </tbody>\n",
       "</table>\n",
       "</div>"
      ],
      "text/plain": [
       "   Type  Alcohol  Malic   Ash  Alcalinity  Magnesium  Phenols  Flavanoids  \\\n",
       "0     1    14.23   1.71  2.43        15.6        127     2.80        3.06   \n",
       "1     1    13.20   1.78  2.14        11.2        100     2.65        2.76   \n",
       "2     1    13.16   2.36  2.67        18.6        101     2.80        3.24   \n",
       "3     1    14.37   1.95  2.50        16.8        113     3.85        3.49   \n",
       "4     1    13.24   2.59  2.87        21.0        118     2.80        2.69   \n",
       "\n",
       "   Nonflavanoids  Proanthocyanins  Color   Hue  Dilution  Proline  \n",
       "0           0.28             2.29   5.64  1.04      3.92     1065  \n",
       "1           0.26             1.28   4.38  1.05      3.40     1050  \n",
       "2           0.30             2.81   5.68  1.03      3.17     1185  \n",
       "3           0.24             2.18   7.80  0.86      3.45     1480  \n",
       "4           0.39             1.82   4.32  1.04      2.93      735  "
      ]
     },
     "execution_count": 2,
     "metadata": {},
     "output_type": "execute_result"
    }
   ],
   "source": [
    "wine = pd.read_csv('D:/1.0 Studies/DataScience_Excelr/Assignment12_PCAtSNE/wine.csv')\n",
    "wine.head()"
   ]
  },
  {
   "cell_type": "code",
   "execution_count": 3,
   "metadata": {},
   "outputs": [
    {
     "name": "stderr",
     "output_type": "stream",
     "text": [
      "<ipython-input-3-34868c6983f5>:2: UserWarning: Pandas doesn't allow columns to be created via a new attribute name - see https://pandas.pydata.org/pandas-docs/stable/indexing.html#attribute-access\n",
      "  wine.data = wine.iloc[:,1:]\n"
     ]
    },
    {
     "data": {
      "text/plain": [
       "array([[1.423e+01, 1.710e+00, 2.430e+00, ..., 1.040e+00, 3.920e+00,\n",
       "        1.065e+03],\n",
       "       [1.320e+01, 1.780e+00, 2.140e+00, ..., 1.050e+00, 3.400e+00,\n",
       "        1.050e+03],\n",
       "       [1.316e+01, 2.360e+00, 2.670e+00, ..., 1.030e+00, 3.170e+00,\n",
       "        1.185e+03],\n",
       "       ...,\n",
       "       [1.327e+01, 4.280e+00, 2.260e+00, ..., 5.900e-01, 1.560e+00,\n",
       "        8.350e+02],\n",
       "       [1.317e+01, 2.590e+00, 2.370e+00, ..., 6.000e-01, 1.620e+00,\n",
       "        8.400e+02],\n",
       "       [1.413e+01, 4.100e+00, 2.740e+00, ..., 6.100e-01, 1.600e+00,\n",
       "        5.600e+02]])"
      ]
     },
     "execution_count": 3,
     "metadata": {},
     "output_type": "execute_result"
    }
   ],
   "source": [
    "# Considering only numerical data \n",
    "wine.data = wine.iloc[:,1:]\n",
    "wine.data.head()\n",
    "# Converting into numpy array\n",
    "WINE = np.round(wine.data.values,decimals = 2)\n",
    "WINE"
   ]
  },
  {
   "cell_type": "code",
   "execution_count": 4,
   "metadata": {},
   "outputs": [],
   "source": [
    "# Normalizing the numerical data \n",
    "wine_normal = scale(WINE)"
   ]
  },
  {
   "cell_type": "code",
   "execution_count": 5,
   "metadata": {},
   "outputs": [
    {
     "data": {
      "text/plain": [
       "array([[ 1.51861254, -0.5622498 ,  0.23205254, ...,  0.36208643,\n",
       "         1.84791957,  1.01300893],\n",
       "       [ 0.24628963, -0.49941338, -0.82799632, ...,  0.40596076,\n",
       "         1.1134493 ,  0.96524152],\n",
       "       [ 0.19687903,  0.02123125,  1.10933436, ...,  0.3182121 ,\n",
       "         0.78858745,  1.39514818],\n",
       "       ...,\n",
       "       [ 0.33275817,  1.74474449, -0.38935541, ..., -1.61225823,\n",
       "        -1.48544548,  0.28057537],\n",
       "       [ 0.20923168,  0.22769377,  0.01273209, ..., -1.56838391,\n",
       "        -1.40069891,  0.29649784],\n",
       "       [ 1.39508604,  1.58316512,  1.36520822, ..., -1.52450958,\n",
       "        -1.42894777, -0.59516041]])"
      ]
     },
     "execution_count": 5,
     "metadata": {},
     "output_type": "execute_result"
    }
   ],
   "source": [
    "wine_normal"
   ]
  },
  {
   "cell_type": "code",
   "execution_count": 6,
   "metadata": {},
   "outputs": [],
   "source": [
    "pca = PCA()\n",
    "pca_values = pca.fit_transform(wine_normal)"
   ]
  },
  {
   "cell_type": "code",
   "execution_count": 7,
   "metadata": {},
   "outputs": [
    {
     "data": {
      "text/plain": [
       "array([[ 3.31673811e+00, -1.44347809e+00, -1.65710106e-01, ...,\n",
       "        -4.50963179e-01,  5.40534488e-01, -6.62386628e-02],\n",
       "       [ 2.20945488e+00,  3.33374808e-01, -2.02644934e+00, ...,\n",
       "        -1.42432183e-01,  3.88098167e-01,  3.63160519e-03],\n",
       "       [ 2.51671702e+00, -1.03119154e+00,  9.82848326e-01, ...,\n",
       "        -2.86498274e-01,  3.04892785e-04,  2.17840225e-02],\n",
       "       ...,\n",
       "       [-2.67785969e+00, -2.76092753e+00, -9.40970525e-01, ...,\n",
       "         5.12474580e-01,  6.98721417e-01,  7.19596706e-02],\n",
       "       [-2.38702820e+00, -2.29735734e+00, -5.50718868e-01, ...,\n",
       "         3.00195841e-01,  3.39435332e-01, -2.17884918e-02],\n",
       "       [-3.20881939e+00, -2.76900249e+00,  1.01382843e+00, ...,\n",
       "        -2.30140745e-01, -1.88562238e-01, -3.24003873e-01]])"
      ]
     },
     "execution_count": 7,
     "metadata": {},
     "output_type": "execute_result"
    }
   ],
   "source": [
    "pca_values"
   ]
  },
  {
   "cell_type": "code",
   "execution_count": 20,
   "metadata": {},
   "outputs": [],
   "source": [
    "pca = PCA(n_components = 13)\n",
    "pca_values = pca.fit_transform(wine_normal)"
   ]
  },
  {
   "cell_type": "code",
   "execution_count": 21,
   "metadata": {},
   "outputs": [
    {
     "data": {
      "text/plain": [
       "array([0.36198278, 0.1920793 , 0.11123553, 0.07069848, 0.06563048,\n",
       "       0.04935783, 0.04238743, 0.0268125 , 0.02222013, 0.01929513,\n",
       "       0.01736819, 0.01298058, 0.00795163])"
      ]
     },
     "execution_count": 21,
     "metadata": {},
     "output_type": "execute_result"
    }
   ],
   "source": [
    "# The amount of variance that each PCA explains is \n",
    "var = pca.explained_variance_ratio_\n",
    "var"
   ]
  },
  {
   "cell_type": "code",
   "execution_count": 10,
   "metadata": {},
   "outputs": [
    {
     "data": {
      "text/plain": [
       "array([ 36.2 ,  55.41,  66.53,  73.6 ,  80.16,  85.1 ,  89.34,  92.02,\n",
       "        94.24,  96.17,  97.91,  99.21, 100.01])"
      ]
     },
     "execution_count": 10,
     "metadata": {},
     "output_type": "execute_result"
    }
   ],
   "source": [
    "# Cumulative variance \n",
    "var1 = np.cumsum(np.round(var,decimals = 4)*100)\n",
    "var1"
   ]
  },
  {
   "cell_type": "code",
   "execution_count": 11,
   "metadata": {},
   "outputs": [
    {
     "data": {
      "text/plain": [
       "array([[ 0.14432621, -0.24519669, -0.00205641, -0.23932424,  0.14199687,\n",
       "         0.39465516,  0.42293493, -0.29853948,  0.31343386, -0.08862347,\n",
       "         0.29669025,  0.37616656,  0.28676007],\n",
       "       [-0.48364838, -0.22494284, -0.31606788,  0.01058857, -0.29961684,\n",
       "        -0.06506288,  0.00334706, -0.02877743, -0.03930672, -0.52999589,\n",
       "         0.27928161,  0.16447755, -0.36488275],\n",
       "       [-0.20739872,  0.08900284,  0.62621546,  0.61208187,  0.1307647 ,\n",
       "         0.14618093,  0.15069113,  0.17034777,  0.14947245, -0.13732184,\n",
       "         0.08517565,  0.16601481, -0.12674656],\n",
       "       [-0.01781373,  0.53678723, -0.21414563,  0.06080291, -0.35200289,\n",
       "         0.19816859,  0.15234224, -0.20317159,  0.39892406,  0.06593107,\n",
       "        -0.42783328,  0.18419094, -0.23209522],\n",
       "       [-0.26563591,  0.03545487, -0.14311322,  0.06609613,  0.72696995,\n",
       "        -0.14926756, -0.10900952, -0.50076653,  0.13694364, -0.07639601,\n",
       "        -0.17362338, -0.10112608, -0.15796405],\n",
       "       [-0.21354986, -0.53678293, -0.15450332,  0.10081371, -0.03807568,\n",
       "         0.08412421,  0.01890293,  0.25858079,  0.53380396,  0.41865995,\n",
       "        -0.10594057, -0.26587118, -0.11976715],\n",
       "       [-0.05635897,  0.42061037, -0.14916568, -0.28691985,  0.32277194,\n",
       "        -0.02797494, -0.06067708,  0.5954075 ,  0.37221491, -0.22773645,\n",
       "         0.23207847, -0.04474898,  0.07687881],\n",
       "       [-0.39579331, -0.06595816,  0.17006366, -0.42790507,  0.15666579,\n",
       "         0.40604422,  0.18718662,  0.23350998, -0.36834278,  0.03374735,\n",
       "        -0.43653403,  0.07822262, -0.12039492],\n",
       "       [ 0.50928188, -0.07573444, -0.30788889,  0.2008663 ,  0.27141732,\n",
       "         0.28532209,  0.04925174,  0.19577688, -0.20870151,  0.05552801,\n",
       "         0.08526588,  0.13786189, -0.57533225],\n",
       "       [ 0.21079621, -0.30900511, -0.02638908,  0.05220344,  0.06746554,\n",
       "        -0.32091668, -0.16342863,  0.21509037,  0.13467639, -0.29058602,\n",
       "        -0.5223238 ,  0.52371887,  0.16268297],\n",
       "       [-0.2259114 ,  0.07631939, -0.4986712 ,  0.47929429,  0.07131525,\n",
       "         0.30411269, -0.02581911,  0.11700075, -0.23728638,  0.03175508,\n",
       "        -0.04852012,  0.04680231,  0.53940647],\n",
       "       [-0.26620294,  0.12184544, -0.04963472, -0.0557651 ,  0.06223205,\n",
       "        -0.303778  , -0.04261856,  0.04233008, -0.09566443,  0.60435992,\n",
       "         0.25948145,  0.60072485, -0.07969117],\n",
       "       [ 0.01499766,  0.02588269, -0.14120724,  0.09169239,  0.05676776,\n",
       "        -0.46389704,  0.83223814,  0.1140499 , -0.11687878, -0.01216038,\n",
       "        -0.09006869, -0.15676499,  0.01453577]])"
      ]
     },
     "execution_count": 11,
     "metadata": {},
     "output_type": "execute_result"
    }
   ],
   "source": [
    "pca.components_"
   ]
  },
  {
   "cell_type": "code",
   "execution_count": 12,
   "metadata": {},
   "outputs": [
    {
     "data": {
      "text/plain": [
       "[<matplotlib.lines.Line2D at 0x1c7c04d1ca0>]"
      ]
     },
     "execution_count": 12,
     "metadata": {},
     "output_type": "execute_result"
    },
    {
     "data": {
      "image/png": "[encoded data removed]",
      "text/plain": [
       "<Figure size 432x288 with 1 Axes>"
      ]
     },
     "metadata": {
      "needs_background": "light"
     },
     "output_type": "display_data"
    }
   ],
   "source": [
    "# Variance plot for PCA components obtained \n",
    "plt.plot(var1,color=\"red\")"
   ]
  },
  {
   "cell_type": "code",
   "execution_count": 13,
   "metadata": {},
   "outputs": [
    {
     "data": {
      "text/plain": [
       "array([[ 3.31673811],\n",
       "       [ 2.20945488],\n",
       "       [ 2.51671702],\n",
       "       [ 3.75705361],\n",
       "       [ 1.00886194],\n",
       "       [ 3.05023317],\n",
       "       [ 2.44907301],\n",
       "       [ 2.05941164],\n",
       "       [ 2.51085254],\n",
       "       [ 2.75360854],\n",
       "       [ 3.47971085],\n",
       "       [ 1.75473133],\n",
       "       [ 2.11343489],\n",
       "       [ 3.45811697],\n",
       "       [ 4.31276148],\n",
       "       [ 2.30514049],\n",
       "       [ 2.1719254 ],\n",
       "       [ 1.89893001],\n",
       "       [ 3.54194847],\n",
       "       [ 2.08449941],\n",
       "       [ 3.1243813 ],\n",
       "       [ 1.08652869],\n",
       "       [ 2.53520015],\n",
       "       [ 1.64496413],\n",
       "       [ 1.761538  ],\n",
       "       [ 0.99002362],\n",
       "       [ 1.77525787],\n",
       "       [ 1.23541751],\n",
       "       [ 2.18834866],\n",
       "       [ 2.25609263],\n",
       "       [ 2.5001824 ],\n",
       "       [ 2.67739641],\n",
       "       [ 1.62854259],\n",
       "       [ 1.90264284],\n",
       "       [ 1.41036294],\n",
       "       [ 1.90379835],\n",
       "       [ 1.38482739],\n",
       "       [ 1.12218112],\n",
       "       [ 1.50217614],\n",
       "       [ 2.52977822],\n",
       "       [ 2.58807745],\n",
       "       [ 0.66845677],\n",
       "       [ 3.07079468],\n",
       "       [ 0.46218105],\n",
       "       [ 2.10134814],\n",
       "       [ 1.13613101],\n",
       "       [ 2.72656475],\n",
       "       [ 2.82133243],\n",
       "       [ 2.00982118],\n",
       "       [ 2.70746013],\n",
       "       [ 3.21491243],\n",
       "       [ 2.85892907],\n",
       "       [ 3.50557702],\n",
       "       [ 2.22475584],\n",
       "       [ 2.14698669],\n",
       "       [ 2.46931839],\n",
       "       [ 2.74150345],\n",
       "       [ 2.17370996],\n",
       "       [ 3.13937548],\n",
       "       [-0.92857712],\n",
       "       [-1.54253005],\n",
       "       [-1.83628359],\n",
       "       [ 0.03056898],\n",
       "       [ 2.05021827],\n",
       "       [-0.60974804],\n",
       "       [ 0.90019176],\n",
       "       [ 2.24848388],\n",
       "       [ 0.18335154],\n",
       "       [-0.81283747],\n",
       "       [ 1.97563798],\n",
       "       [-1.56700399],\n",
       "       [ 1.65760762],\n",
       "       [-0.72540597],\n",
       "       [ 2.56218418],\n",
       "       [ 1.83256084],\n",
       "       [-0.86802283],\n",
       "       [ 0.3699917 ],\n",
       "       [-1.45740055],\n",
       "       [ 1.26295135],\n",
       "       [ 0.37608144],\n",
       "       [ 0.76201606],\n",
       "       [ 1.03454728],\n",
       "       [-0.49493137],\n",
       "       [-2.53902851],\n",
       "       [ 0.83532981],\n",
       "       [ 0.78787226],\n",
       "       [-0.80688502],\n",
       "       [-0.55810814],\n",
       "       [-1.11514584],\n",
       "       [-0.55576067],\n",
       "       [-1.34932096],\n",
       "       [-1.56451983],\n",
       "       [-1.932586  ],\n",
       "       [ 0.74662467],\n",
       "       [ 0.95741761],\n",
       "       [ 2.54387896],\n",
       "       [-0.54395111],\n",
       "       [ 1.03101721],\n",
       "       [ 2.25188709],\n",
       "       [ 1.41014675],\n",
       "       [ 0.79769428],\n",
       "       [-0.54953953],\n",
       "       [-0.1611985 ],\n",
       "       [-0.65981144],\n",
       "       [ 0.39233222],\n",
       "       [-1.77254026],\n",
       "       [-0.36628933],\n",
       "       [-1.62069561],\n",
       "       [ 0.08252939],\n",
       "       [ 1.57826179],\n",
       "       [ 1.42057931],\n",
       "       [-0.2787298 ],\n",
       "       [-1.30321502],\n",
       "       [-0.45710887],\n",
       "       [-0.49422637],\n",
       "       [ 0.48199043],\n",
       "       [-0.25289736],\n",
       "       [-0.10725164],\n",
       "       [-2.4330324 ],\n",
       "       [-0.5511081 ],\n",
       "       [ 0.73960803],\n",
       "       [ 1.3362613 ],\n",
       "       [-1.17714564],\n",
       "       [-0.46237594],\n",
       "       [ 0.97845087],\n",
       "       [-0.09683703],\n",
       "       [ 0.03847206],\n",
       "       [-1.59721242],\n",
       "       [-0.47958939],\n",
       "       [-1.79287181],\n",
       "       [-1.32708561],\n",
       "       [-2.38451362],\n",
       "       [-2.93694769],\n",
       "       [-2.14682812],\n",
       "       [-2.36988723],\n",
       "       [-3.06386938],\n",
       "       [-3.91579487],\n",
       "       [-3.93653722],\n",
       "       [-3.09432304],\n",
       "       [-2.37452827],\n",
       "       [-2.77885168],\n",
       "       [-2.2865785 ],\n",
       "       [-2.98569091],\n",
       "       [-2.37525725],\n",
       "       [-2.20986967],\n",
       "       [-2.62562267],\n",
       "       [-4.28067278],\n",
       "       [-3.58268132],\n",
       "       [-2.80709038],\n",
       "       [-2.89967959],\n",
       "       [-2.32075031],\n",
       "       [-2.54983678],\n",
       "       [-1.812556  ],\n",
       "       [-2.76017241],\n",
       "       [-2.73714647],\n",
       "       [-3.6049146 ],\n",
       "       [-2.88986613],\n",
       "       [-3.3921984 ],\n",
       "       [-1.04822376],\n",
       "       [-1.60994775],\n",
       "       [-3.14316864],\n",
       "       [-2.2402111 ],\n",
       "       [-2.84772555],\n",
       "       [-2.59751076],\n",
       "       [-2.94933416],\n",
       "       [-3.53008475],\n",
       "       [-2.40616529],\n",
       "       [-2.92912158],\n",
       "       [-2.18144475],\n",
       "       [-2.38097524],\n",
       "       [-3.21163162],\n",
       "       [-3.67794595],\n",
       "       [-2.4655868 ],\n",
       "       [-3.37057701],\n",
       "       [-2.60199114],\n",
       "       [-2.67785969],\n",
       "       [-2.3870282 ],\n",
       "       [-3.20881939]])"
      ]
     },
     "execution_count": 13,
     "metadata": {},
     "output_type": "execute_result"
    }
   ],
   "source": [
    " pca_values[:,0:1]"
   ]
  },
  {
   "cell_type": "code",
   "execution_count": 14,
   "metadata": {},
   "outputs": [
    {
     "data": {
      "text/plain": [
       "<matplotlib.collections.PathCollection at 0x1c7c05ba610>"
      ]
     },
     "execution_count": 14,
     "metadata": {},
     "output_type": "execute_result"
    },
    {
     "data": {
      "image/png": "[encoded data removed]",
      "text/plain": [
       "<Figure size 432x288 with 1 Axes>"
      ]
     },
     "metadata": {
      "needs_background": "light"
     },
     "output_type": "display_data"
    }
   ],
   "source": [
    "# plot between PCA1 and PCA2 \n",
    "x = pca_values[:,0:1]\n",
    "y = pca_values[:,1:2]\n",
    "#z = pca_values[:2:3]\n",
    "plt.scatter(x,y)"
   ]
  },
  {
   "cell_type": "code",
   "execution_count": 15,
   "metadata": {},
   "outputs": [],
   "source": [
    "finalDf = pd.concat([pd.DataFrame(pca_values[:,0:2],columns=['pc1','pc2']), wine[['Type']]], axis = 1)"
   ]
  },
  {
   "cell_type": "code",
   "execution_count": 16,
   "metadata": {},
   "outputs": [
    {
     "data": {
      "text/plain": [
       "<AxesSubplot:xlabel='pc1', ylabel='pc2'>"
      ]
     },
     "execution_count": 16,
     "metadata": {},
     "output_type": "execute_result"
    },
    {
     "data": {
      "image/png": "[encoded data removed]",
      "text/plain": [
       "<Figure size 432x288 with 1 Axes>"
      ]
     },
     "metadata": {
      "needs_background": "light"
     },
     "output_type": "display_data"
    }
   ],
   "source": [
    "import seaborn as sns\n",
    "sns.scatterplot(data=finalDf,x='pc1',y='pc2',hue='Type')"
   ]
  },
  {
   "cell_type": "code",
   "execution_count": null,
   "metadata": {},
   "outputs": [],
   "source": []
  }
 ],
 "metadata": {
  "kernelspec": {
   "display_name": "Python 3",
   "language": "python",
   "name": "python3"
  },
  "language_info": {
   "codemirror_mode": {
    "name": "ipython",
    "version": 3
   },
   "file_extension": ".py",
   "mimetype": "text/x-python",
   "name": "python",
   "nbconvert_exporter": "python",
   "pygments_lexer": "ipython3",
   "version": "3.8.5"
  }
 },
 "nbformat": 4,
 "nbformat_minor": 4
}
